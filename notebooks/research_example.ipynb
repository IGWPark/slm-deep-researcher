{
 "cells": [
  {
   "cell_type": "markdown",
   "metadata": {},
   "source": [
    "# SLM Deep Researcher Example\n",
    "\n",
    "This notebook demonstrates streaming research with the slm-deep-researcher API."
   ]
  },
  {
   "cell_type": "code",
   "execution_count": 1,
   "metadata": {},
   "outputs": [],
   "source": [
    "import os\n",
    "import json\n",
    "import requests\n",
    "from typing import Iterator, Dict, Any\n",
    "from dataclasses import dataclass\n",
    "\n",
    "from rich.console import Console\n",
    "from rich.panel import Panel\n",
    "from rich.markdown import Markdown"
   ]
  },
  {
   "cell_type": "code",
   "execution_count": 2,
   "metadata": {},
   "outputs": [],
   "source": [
    "console = Console()\n",
    "BASE_URL = os.environ.get('LANGGRAPH_BASE_URL', 'http://127.0.0.1:2024')"
   ]
  },
  {
   "cell_type": "code",
   "execution_count": 3,
   "metadata": {},
   "outputs": [],
   "source": [
    "@dataclass\n",
    "class ResearchProgress:\n",
    "    stage: str\n",
    "    query: str = None\n",
    "    sources: list[str] = None\n",
    "    summary: str = None\n",
    "    is_final: bool = False"
   ]
  },
  {
   "cell_type": "code",
   "execution_count": 4,
   "metadata": {},
   "outputs": [],
   "source": [
    "class ResearchClient:\n",
    "    def __init__(self, base_url: str = BASE_URL):\n",
    "        self.base_url = base_url\n",
    "        self.headers = {'Content-Type': 'application/json'}\n",
    "        self.assistant_id = None\n",
    "        self._ensure_connection()\n",
    "        self._create_assistant()\n",
    "\n",
    "    def _ensure_connection(self):\n",
    "        try:\n",
    "            response = requests.get(f'{self.base_url}/ok', timeout=5)\n",
    "            response.raise_for_status()\n",
    "        except requests.RequestException as e:\n",
    "            raise ConnectionError(f\"Cannot connect to LangGraph server: {e}\")\n",
    "\n",
    "    def _create_assistant(self):\n",
    "        payload = {\n",
    "            'name': 'slm-deep-researcher',\n",
    "            'graph_id': 'slm_deep_researcher',\n",
    "            'if_exists': 'do_nothing',\n",
    "        }\n",
    "        response = requests.post(\n",
    "            f'{self.base_url}/assistants',\n",
    "            headers=self.headers,\n",
    "            json=payload,\n",
    "            timeout=10\n",
    "        )\n",
    "        response.raise_for_status()\n",
    "        self.assistant_id = response.json()['assistant_id']\n",
    "\n",
    "    def research(self, topic: str) -> Iterator[ResearchProgress]:\n",
    "        payload = {\n",
    "            \"assistant_id\": self.assistant_id,\n",
    "            \"input\": {\"research_topic\": topic},\n",
    "            \"on_completion\": \"delete\",\n",
    "            \"stream_mode\": [\"events\"],\n",
    "        }\n",
    "\n",
    "        with requests.post(\n",
    "            f\"{self.base_url}/runs/stream\",\n",
    "            json=payload,\n",
    "            stream=True,\n",
    "            timeout=300\n",
    "        ) as resp:\n",
    "            resp.raise_for_status()\n",
    "\n",
    "            for raw in resp.iter_lines():\n",
    "                if not raw:\n",
    "                    continue\n",
    "\n",
    "                text = raw.decode()\n",
    "                if not text.startswith(\"data:\"):\n",
    "                    continue\n",
    "\n",
    "                event = json.loads(text[5:])\n",
    "                progress = self._parse_event(event)\n",
    "                if progress:\n",
    "                    yield progress\n",
    "\n",
    "    def _parse_event(self, event: Dict[str, Any]) -> ResearchProgress:\n",
    "        kind = event.get(\"event\")\n",
    "        name = event.get(\"name\")\n",
    "        data = event.get(\"data\", {})\n",
    "\n",
    "        if kind != \"on_chain_end\" or not name:\n",
    "            return None\n",
    "\n",
    "        output = data.get(\"output\", {})\n",
    "\n",
    "        if name == \"generate_query\":\n",
    "            query = output.get(\"search_query\")\n",
    "            if query:\n",
    "                return ResearchProgress(stage=\"query_generated\", query=query)\n",
    "\n",
    "        elif name == \"web_research\":\n",
    "            sources = output.get(\"sources_gathered\")\n",
    "            if sources and sources[-1]:\n",
    "                source_list = [\n",
    "                    line.strip() for line in sources[-1].split(\"\\n\")\n",
    "                    if line.startswith(\"* \")\n",
    "                ]\n",
    "                return ResearchProgress(stage=\"sources_found\", sources=source_list)\n",
    "\n",
    "        elif name == \"summarize_sources\":\n",
    "            summary = output.get(\"running_summary\")\n",
    "            if summary:\n",
    "                return ResearchProgress(stage=\"summary_updated\", summary=summary)\n",
    "\n",
    "        elif name == \"reflect_on_summary\":\n",
    "            query = output.get(\"search_query\")\n",
    "            if query:\n",
    "                return ResearchProgress(stage=\"reflection_query\", query=query)\n",
    "\n",
    "        elif name == \"finalize_summary\":\n",
    "            summary = output.get(\"running_summary\")\n",
    "            if summary:\n",
    "                return ResearchProgress(stage=\"completed\", summary=summary, is_final=True)\n",
    "\n",
    "        return None"
   ]
  },
  {
   "cell_type": "code",
   "execution_count": 5,
   "metadata": {},
   "outputs": [],
   "source": [
    "def display_progress(progress: ResearchProgress, loop_count: dict):\n",
    "    if progress.stage == \"query_generated\":\n",
    "        console.print(f\"\\n[bold cyan]🔍 Initial Query[/bold cyan]\")\n",
    "        console.print(f\"[cyan]   {progress.query}[/cyan]\")\n",
    "\n",
    "    elif progress.stage == \"sources_found\":\n",
    "        console.print(f\"[bold green]✓[/bold green] [green]Found {len(progress.sources)} sources[/green]\")\n",
    "        for source in progress.sources[:3]:\n",
    "            source_clean = source.lstrip(\"* \")\n",
    "            console.print(f\"   [dim]{source_clean}[/dim]\")\n",
    "\n",
    "    elif progress.stage == \"summary_updated\":\n",
    "        preview = progress.summary.replace(\"\\n\", \" \")[:100]\n",
    "        console.print(f\"[bold yellow]📝[/bold yellow] [yellow]Summary updated[/yellow]\")\n",
    "        console.print(f\"   [dim]{preview}...[/dim]\")\n",
    "\n",
    "    elif progress.stage == \"reflection_query\":\n",
    "        loop_count['value'] += 1\n",
    "        console.print(f\"\\n[bold magenta]🔍 Follow-up Query #{loop_count['value']}[/bold magenta]\")\n",
    "        console.print(f\"[magenta]   {progress.query}[/magenta]\")\n",
    "\n",
    "    elif progress.stage == \"completed\":\n",
    "        console.print(\"\\n\")\n",
    "        console.rule(\"[bold green]Research Complete[/bold green]\")\n",
    "        console.print(\"\\n\")\n",
    "        md = Markdown(progress.summary)\n",
    "        console.print(md)"
   ]
  },
  {
   "cell_type": "markdown",
   "metadata": {},
   "source": [
    "## Run Research\n",
    "\n",
    "Set your research topic and run the cells below."
   ]
  },
  {
   "cell_type": "code",
   "execution_count": 6,
   "metadata": {},
   "outputs": [
    {
     "data": {
      "text/html": [
       "<pre style=\"white-space:pre;overflow-x:auto;line-height:normal;font-family:Menlo,'DejaVu Sans Mono',consolas,'Courier New',monospace\"><span style=\"color: #000080; text-decoration-color: #000080\">╭──────────────────────────────────── </span><span style=\"color: #000080; text-decoration-color: #000080; font-weight: bold\">Research Topic</span><span style=\"color: #000080; text-decoration-color: #000080\"> ────────────────────────────────────╮</span>\n",
       "<span style=\"color: #000080; text-decoration-color: #000080\">│</span> <span style=\"color: #c0c0c0; text-decoration-color: #c0c0c0; font-weight: bold\">Investigate the environmental impact of training one large model vs. 10,000 tiny ones.</span> <span style=\"color: #000080; text-decoration-color: #000080\">│</span>\n",
       "<span style=\"color: #000080; text-decoration-color: #000080\">╰────────────────────────────────────────────────────────────────────────────────────────╯</span>\n",
       "</pre>\n"
      ],
      "text/plain": [
       "\u001b[34m╭─\u001b[0m\u001b[34m───────────────────────────────────\u001b[0m\u001b[34m \u001b[0m\u001b[1;34mResearch Topic\u001b[0m\u001b[34m \u001b[0m\u001b[34m───────────────────────────────────\u001b[0m\u001b[34m─╮\u001b[0m\n",
       "\u001b[34m│\u001b[0m \u001b[1;37mInvestigate the environmental impact of training one large model vs. 10,000 tiny ones.\u001b[0m \u001b[34m│\u001b[0m\n",
       "\u001b[34m╰────────────────────────────────────────────────────────────────────────────────────────╯\u001b[0m\n"
      ]
     },
     "metadata": {},
     "output_type": "display_data"
    },
    {
     "data": {
      "text/html": [
       "<pre style=\"white-space:pre;overflow-x:auto;line-height:normal;font-family:Menlo,'DejaVu Sans Mono',consolas,'Courier New',monospace\">\n",
       "</pre>\n"
      ],
      "text/plain": [
       "\n"
      ]
     },
     "metadata": {},
     "output_type": "display_data"
    }
   ],
   "source": [
    "topic = \"Investigate the environmental impact of training one large model vs. 10,000 tiny ones.\"\n",
    "\n",
    "console.print(Panel.fit(\n",
    "    f\"[bold white]{topic}[/bold white]\",\n",
    "    title=\"[bold blue]Research Topic[/bold blue]\",\n",
    "    border_style=\"blue\"\n",
    "))\n",
    "console.print()"
   ]
  },
  {
   "cell_type": "code",
   "execution_count": 7,
   "metadata": {},
   "outputs": [
    {
     "data": {
      "text/html": [
       "<pre style=\"white-space:pre;overflow-x:auto;line-height:normal;font-family:Menlo,'DejaVu Sans Mono',consolas,'Courier New',monospace\">\n",
       "<span style=\"color: #008080; text-decoration-color: #008080; font-weight: bold\">🔍 Initial Query</span>\n",
       "</pre>\n"
      ],
      "text/plain": [
       "\n",
       "\u001b[1;36m🔍 Initial Query\u001b[0m\n"
      ]
     },
     "metadata": {},
     "output_type": "display_data"
    },
    {
     "data": {
      "text/html": [
       "<pre style=\"white-space:pre;overflow-x:auto;line-height:normal;font-family:Menlo,'DejaVu Sans Mono',consolas,'Courier New',monospace\"><span style=\"color: #008080; text-decoration-color: #008080\">   Environmental impact of training large vs. small models </span><span style=\"color: #008080; text-decoration-color: #008080; font-weight: bold\">2025</span>\n",
       "</pre>\n"
      ],
      "text/plain": [
       "\u001b[36m   Environmental impact of training large vs. small models \u001b[0m\u001b[1;36m2025\u001b[0m\n"
      ]
     },
     "metadata": {},
     "output_type": "display_data"
    },
    {
     "data": {
      "text/html": [
       "<pre style=\"white-space:pre;overflow-x:auto;line-height:normal;font-family:Menlo,'DejaVu Sans Mono',consolas,'Courier New',monospace\"><span style=\"color: #008000; text-decoration-color: #008000; font-weight: bold\">✓</span> <span style=\"color: #008000; text-decoration-color: #008000\">Found </span><span style=\"color: #008000; text-decoration-color: #008000; font-weight: bold\">3</span><span style=\"color: #008000; text-decoration-color: #008000\"> sources</span>\n",
       "</pre>\n"
      ],
      "text/plain": [
       "\u001b[1;32m✓\u001b[0m \u001b[32mFound \u001b[0m\u001b[1;32m3\u001b[0m\u001b[32m sources\u001b[0m\n"
      ]
     },
     "metadata": {},
     "output_type": "display_data"
    },
    {
     "data": {
      "text/html": [
       "<pre style=\"white-space:pre;overflow-x:auto;line-height:normal;font-family:Menlo,'DejaVu Sans Mono',consolas,'Courier New',monospace\">   <span style=\"color: #7f7f7f; text-decoration-color: #7f7f7f\">Wikipedia Environmental impact of artificial intelligence - Wikipedia : </span>\n",
       "<span style=\"color: #7f7fff; text-decoration-color: #7f7fff; text-decoration: underline\">https://en.wikipedia.org/wiki/Environmental_impact_of_artificial_intelligence</span>\n",
       "</pre>\n"
      ],
      "text/plain": [
       "   \u001b[2mWikipedia Environmental impact of artificial intelligence - Wikipedia : \u001b[0m\n",
       "\u001b[2;4;94mhttps://en.wikipedia.org/wiki/Environmental_impact_of_artificial_intelligence\u001b[0m\n"
      ]
     },
     "metadata": {},
     "output_type": "display_data"
    },
    {
     "data": {
      "text/html": [
       "<pre style=\"white-space:pre;overflow-x:auto;line-height:normal;font-family:Menlo,'DejaVu Sans Mono',consolas,'Courier New',monospace\">   <span style=\"color: #7f7f7f; text-decoration-color: #7f7f7f\">MIT News Explained: Generative AI’s environmental impact | MIT News | Massachusetts Institute of Technology : </span>\n",
       "<span style=\"color: #7f7fff; text-decoration-color: #7f7fff; text-decoration: underline\">https://news.mit.edu/2025/explained-generative-ai-environmental-impact-0117</span>\n",
       "</pre>\n"
      ],
      "text/plain": [
       "   \u001b[2mMIT News Explained: Generative AI’s environmental impact | MIT News | Massachusetts Institute of Technology : \u001b[0m\n",
       "\u001b[2;4;94mhttps://news.mit.edu/2025/explained-generative-ai-environmental-impact-0117\u001b[0m\n"
      ]
     },
     "metadata": {},
     "output_type": "display_data"
    },
    {
     "data": {
      "text/html": [
       "<pre style=\"white-space:pre;overflow-x:auto;line-height:normal;font-family:Menlo,'DejaVu Sans Mono',consolas,'Courier New',monospace\">   <span style=\"color: #7f7f7f; text-decoration-color: #7f7f7f\">The Sustainable Agency Environmental Impact of Generative AI | Stats &amp; Facts for </span><span style=\"color: #7fbfbf; text-decoration-color: #7fbfbf; font-weight: bold\">2025</span><span style=\"color: #7f7f7f; text-decoration-color: #7f7f7f\"> : </span>\n",
       "<span style=\"color: #7f7fff; text-decoration-color: #7f7fff; text-decoration: underline\">https://thesustainableagency.com/blog/environmental-impact-of-generative-ai/</span>\n",
       "</pre>\n"
      ],
      "text/plain": [
       "   \u001b[2mThe Sustainable Agency Environmental Impact of Generative AI | Stats & Facts for \u001b[0m\u001b[1;2;36m2025\u001b[0m\u001b[2m : \u001b[0m\n",
       "\u001b[2;4;94mhttps://thesustainableagency.com/blog/environmental-impact-of-generative-ai/\u001b[0m\n"
      ]
     },
     "metadata": {},
     "output_type": "display_data"
    },
    {
     "data": {
      "text/html": [
       "<pre style=\"white-space:pre;overflow-x:auto;line-height:normal;font-family:Menlo,'DejaVu Sans Mono',consolas,'Courier New',monospace\"><span style=\"color: #808000; text-decoration-color: #808000; font-weight: bold\">📝</span> <span style=\"color: #808000; text-decoration-color: #808000\">Summary updated</span>\n",
       "</pre>\n"
      ],
      "text/plain": [
       "\u001b[1;33m📝\u001b[0m \u001b[33mSummary updated\u001b[0m\n"
      ]
     },
     "metadata": {},
     "output_type": "display_data"
    },
    {
     "data": {
      "text/html": [
       "<pre style=\"white-space:pre;overflow-x:auto;line-height:normal;font-family:Menlo,'DejaVu Sans Mono',consolas,'Courier New',monospace\">   <span style=\"color: #7f7f7f; text-decoration-color: #7f7f7f\">  The environmental impact of training large AI models versus </span><span style=\"color: #7fbfbf; text-decoration-color: #7fbfbf; font-weight: bold\">10</span><span style=\"color: #7f7f7f; text-decoration-color: #7f7f7f\">,</span><span style=\"color: #7fbfbf; text-decoration-color: #7fbfbf; font-weight: bold\">000</span><span style=\"color: #7f7f7f; text-decoration-color: #7f7f7f\"> tiny models highlights signific</span><span style=\"color: #bfbf7f; text-decoration-color: #bfbf7f\">...</span>\n",
       "</pre>\n"
      ],
      "text/plain": [
       "   \u001b[2m  The environmental impact of training large AI models versus \u001b[0m\u001b[1;2;36m10\u001b[0m\u001b[2m,\u001b[0m\u001b[1;2;36m000\u001b[0m\u001b[2m tiny models highlights signific\u001b[0m\u001b[2;33m...\u001b[0m\n"
      ]
     },
     "metadata": {},
     "output_type": "display_data"
    },
    {
     "data": {
      "text/html": [
       "<pre style=\"white-space:pre;overflow-x:auto;line-height:normal;font-family:Menlo,'DejaVu Sans Mono',consolas,'Courier New',monospace\">\n",
       "<span style=\"color: #800080; text-decoration-color: #800080; font-weight: bold\">🔍 Follow-up Query #</span><span style=\"color: #800080; text-decoration-color: #800080; font-weight: bold\">1</span>\n",
       "</pre>\n"
      ],
      "text/plain": [
       "\n",
       "\u001b[1;35m🔍 Follow-up Query #\u001b[0m\u001b[1;35m1\u001b[0m\n"
      ]
     },
     "metadata": {},
     "output_type": "display_data"
    },
    {
     "data": {
      "text/html": [
       "<pre style=\"white-space:pre;overflow-x:auto;line-height:normal;font-family:Menlo,'DejaVu Sans Mono',consolas,'Courier New',monospace\"><span style=\"color: #800080; text-decoration-color: #800080\">   Energy efficiency of training </span><span style=\"color: #800080; text-decoration-color: #800080; font-weight: bold\">10</span><span style=\"color: #800080; text-decoration-color: #800080\">,</span><span style=\"color: #800080; text-decoration-color: #800080; font-weight: bold\">000</span><span style=\"color: #800080; text-decoration-color: #800080\"> tiny models vs. one large model</span>\n",
       "</pre>\n"
      ],
      "text/plain": [
       "\u001b[35m   Energy efficiency of training \u001b[0m\u001b[1;35m10\u001b[0m\u001b[35m,\u001b[0m\u001b[1;35m000\u001b[0m\u001b[35m tiny models vs. one large model\u001b[0m\n"
      ]
     },
     "metadata": {},
     "output_type": "display_data"
    },
    {
     "data": {
      "text/html": [
       "<pre style=\"white-space:pre;overflow-x:auto;line-height:normal;font-family:Menlo,'DejaVu Sans Mono',consolas,'Courier New',monospace\"><span style=\"color: #008000; text-decoration-color: #008000; font-weight: bold\">✓</span> <span style=\"color: #008000; text-decoration-color: #008000\">Found </span><span style=\"color: #008000; text-decoration-color: #008000; font-weight: bold\">3</span><span style=\"color: #008000; text-decoration-color: #008000\"> sources</span>\n",
       "</pre>\n"
      ],
      "text/plain": [
       "\u001b[1;32m✓\u001b[0m \u001b[32mFound \u001b[0m\u001b[1;32m3\u001b[0m\u001b[32m sources\u001b[0m\n"
      ]
     },
     "metadata": {},
     "output_type": "display_data"
    },
    {
     "data": {
      "text/html": [
       "<pre style=\"white-space:pre;overflow-x:auto;line-height:normal;font-family:Menlo,'DejaVu Sans Mono',consolas,'Courier New',monospace\">   <span style=\"color: #7f7f7f; text-decoration-color: #7f7f7f\">Large language model - Wikipedia : </span><span style=\"color: #7f7fff; text-decoration-color: #7f7fff; text-decoration: underline\">https://en.wikipedia.org/wiki/Large_language_model</span>\n",
       "</pre>\n"
      ],
      "text/plain": [
       "   \u001b[2mLarge language model - Wikipedia : \u001b[0m\u001b[2;4;94mhttps://en.wikipedia.org/wiki/Large_language_model\u001b[0m\n"
      ]
     },
     "metadata": {},
     "output_type": "display_data"
    },
    {
     "data": {
      "text/html": [
       "<pre style=\"white-space:pre;overflow-x:auto;line-height:normal;font-family:Menlo,'DejaVu Sans Mono',consolas,'Courier New',monospace\">   <span style=\"color: #7f7f7f; text-decoration-color: #7f7f7f\">Tiny AI Model Shocks Industry by Outperforming Giants in ARC-AGI</span><span style=\"color: #bfbf7f; text-decoration-color: #bfbf7f\">...</span><span style=\"color: #7f7f7f; text-decoration-color: #7f7f7f\"> : </span>\n",
       "<span style=\"color: #7f7fff; text-decoration-color: #7f7fff; text-decoration: underline\">https://www.theailibrary.co/blog/tiny-ai-model-shocks-industry-by-outperforming-giants-in-arc-agi-benchmark</span>\n",
       "</pre>\n"
      ],
      "text/plain": [
       "   \u001b[2mTiny AI Model Shocks Industry by Outperforming Giants in ARC-AGI\u001b[0m\u001b[2;33m...\u001b[0m\u001b[2m : \u001b[0m\n",
       "\u001b[2;4;94mhttps://www.theailibrary.co/blog/tiny-ai-model-shocks-industry-by-outperforming-giants-in-arc-agi-benchmark\u001b[0m\n"
      ]
     },
     "metadata": {},
     "output_type": "display_data"
    },
    {
     "data": {
      "text/html": [
       "<pre style=\"white-space:pre;overflow-x:auto;line-height:normal;font-family:Menlo,'DejaVu Sans Mono',consolas,'Courier New',monospace\">   <span style=\"color: #7f7f7f; text-decoration-color: #7f7f7f\">Introducing Gemma </span><span style=\"color: #7fbfbf; text-decoration-color: #7fbfbf; font-weight: bold\">3</span><span style=\"color: #7f7f7f; text-decoration-color: #7f7f7f\"> 270M: The compact model for hyper- efficient AI : </span>\n",
       "<span style=\"color: #7f7fff; text-decoration-color: #7f7fff; text-decoration: underline\">https://developers.googleblog.com/en/introducing-gemma-3-270m/</span>\n",
       "</pre>\n"
      ],
      "text/plain": [
       "   \u001b[2mIntroducing Gemma \u001b[0m\u001b[1;2;36m3\u001b[0m\u001b[2m 270M: The compact model for hyper- efficient AI : \u001b[0m\n",
       "\u001b[2;4;94mhttps://developers.googleblog.com/en/introducing-gemma-3-270m/\u001b[0m\n"
      ]
     },
     "metadata": {},
     "output_type": "display_data"
    },
    {
     "data": {
      "text/html": [
       "<pre style=\"white-space:pre;overflow-x:auto;line-height:normal;font-family:Menlo,'DejaVu Sans Mono',consolas,'Courier New',monospace\"><span style=\"color: #808000; text-decoration-color: #808000; font-weight: bold\">📝</span> <span style=\"color: #808000; text-decoration-color: #808000\">Summary updated</span>\n",
       "</pre>\n"
      ],
      "text/plain": [
       "\u001b[1;33m📝\u001b[0m \u001b[33mSummary updated\u001b[0m\n"
      ]
     },
     "metadata": {},
     "output_type": "display_data"
    },
    {
     "data": {
      "text/html": [
       "<pre style=\"white-space:pre;overflow-x:auto;line-height:normal;font-family:Menlo,'DejaVu Sans Mono',consolas,'Courier New',monospace\">   <span style=\"color: #7f7f7f; text-decoration-color: #7f7f7f\">  The environmental impact of training large AI models versus </span><span style=\"color: #7fbfbf; text-decoration-color: #7fbfbf; font-weight: bold\">10</span><span style=\"color: #7f7f7f; text-decoration-color: #7f7f7f\">,</span><span style=\"color: #7fbfbf; text-decoration-color: #7fbfbf; font-weight: bold\">000</span><span style=\"color: #7f7f7f; text-decoration-color: #7f7f7f\"> tiny models reveals stark diffe</span><span style=\"color: #bfbf7f; text-decoration-color: #bfbf7f\">...</span>\n",
       "</pre>\n"
      ],
      "text/plain": [
       "   \u001b[2m  The environmental impact of training large AI models versus \u001b[0m\u001b[1;2;36m10\u001b[0m\u001b[2m,\u001b[0m\u001b[1;2;36m000\u001b[0m\u001b[2m tiny models reveals stark diffe\u001b[0m\u001b[2;33m...\u001b[0m\n"
      ]
     },
     "metadata": {},
     "output_type": "display_data"
    },
    {
     "data": {
      "text/html": [
       "<pre style=\"white-space:pre;overflow-x:auto;line-height:normal;font-family:Menlo,'DejaVu Sans Mono',consolas,'Courier New',monospace\">\n",
       "<span style=\"color: #800080; text-decoration-color: #800080; font-weight: bold\">🔍 Follow-up Query #</span><span style=\"color: #800080; text-decoration-color: #800080; font-weight: bold\">2</span>\n",
       "</pre>\n"
      ],
      "text/plain": [
       "\n",
       "\u001b[1;35m🔍 Follow-up Query #\u001b[0m\u001b[1;35m2\u001b[0m\n"
      ]
     },
     "metadata": {},
     "output_type": "display_data"
    },
    {
     "data": {
      "text/html": [
       "<pre style=\"white-space:pre;overflow-x:auto;line-height:normal;font-family:Menlo,'DejaVu Sans Mono',consolas,'Courier New',monospace\"><span style=\"color: #800080; text-decoration-color: #800080\">   Recent advancements in energy-efficient training for tiny AI models and their carbon footprint comparisons with </span>\n",
       "<span style=\"color: #800080; text-decoration-color: #800080\">large models</span>\n",
       "</pre>\n"
      ],
      "text/plain": [
       "\u001b[35m   Recent advancements in energy-efficient training for tiny AI models and their carbon footprint comparisons with \u001b[0m\n",
       "\u001b[35mlarge models\u001b[0m\n"
      ]
     },
     "metadata": {},
     "output_type": "display_data"
    },
    {
     "data": {
      "text/html": [
       "<pre style=\"white-space:pre;overflow-x:auto;line-height:normal;font-family:Menlo,'DejaVu Sans Mono',consolas,'Courier New',monospace\"><span style=\"color: #008000; text-decoration-color: #008000; font-weight: bold\">✓</span> <span style=\"color: #008000; text-decoration-color: #008000\">Found </span><span style=\"color: #008000; text-decoration-color: #008000; font-weight: bold\">3</span><span style=\"color: #008000; text-decoration-color: #008000\"> sources</span>\n",
       "</pre>\n"
      ],
      "text/plain": [
       "\u001b[1;32m✓\u001b[0m \u001b[32mFound \u001b[0m\u001b[1;32m3\u001b[0m\u001b[32m sources\u001b[0m\n"
      ]
     },
     "metadata": {},
     "output_type": "display_data"
    },
    {
     "data": {
      "text/html": [
       "<pre style=\"white-space:pre;overflow-x:auto;line-height:normal;font-family:Menlo,'DejaVu Sans Mono',consolas,'Courier New',monospace\">   <span style=\"color: #7f7f7f; text-decoration-color: #7f7f7f\">ECO-AI – Energy-Conscious Optimization for AI Training : </span>\n",
       "<span style=\"color: #7f7fff; text-decoration-color: #7f7fff; text-decoration: underline\">https://openaccess.thecvf.com/content/CVPR2025W/ReGenAI/papers/Horvath_ECO-AI_-_Energy-Conscious_Optimization_for_A</span>\n",
       "<span style=\"color: #7f7fff; text-decoration-color: #7f7fff; text-decoration: underline\">I_Training_CVPRW_2025_paper.pdf</span>\n",
       "</pre>\n"
      ],
      "text/plain": [
       "   \u001b[2mECO-AI – Energy-Conscious Optimization for AI Training : \u001b[0m\n",
       "\u001b[2;4;94mhttps://openaccess.thecvf.com/content/CVPR2025W/ReGenAI/papers/Horvath_ECO-AI_-_Energy-Conscious_Optimization_for_A\u001b[0m\n",
       "\u001b[2;4;94mI_Training_CVPRW_2025_paper.pdf\u001b[0m\n"
      ]
     },
     "metadata": {},
     "output_type": "display_data"
    },
    {
     "data": {
      "text/html": [
       "<pre style=\"white-space:pre;overflow-x:auto;line-height:normal;font-family:Menlo,'DejaVu Sans Mono',consolas,'Courier New',monospace\">   <span style=\"color: #7f7f7f; text-decoration-color: #7f7f7f\">Sustainable AI: Measuring and Reducing Carbon Footprint in </span><span style=\"color: #bfbf7f; text-decoration-color: #bfbf7f\">...</span><span style=\"color: #7f7f7f; text-decoration-color: #7f7f7f\"> : </span>\n",
       "<span style=\"color: #7f7fff; text-decoration-color: #7f7fff; text-decoration: underline\">https://www.researchgate.net/publication/392727729_Sustainable_AI_Measuring_and_Reducing_Carbon_Footprint_in_Model_</span>\n",
       "<span style=\"color: #7f7fff; text-decoration-color: #7f7fff; text-decoration: underline\">Training_and_Deployment</span>\n",
       "</pre>\n"
      ],
      "text/plain": [
       "   \u001b[2mSustainable AI: Measuring and Reducing Carbon Footprint in \u001b[0m\u001b[2;33m...\u001b[0m\u001b[2m : \u001b[0m\n",
       "\u001b[2;4;94mhttps://www.researchgate.net/publication/392727729_Sustainable_AI_Measuring_and_Reducing_Carbon_Footprint_in_Model_\u001b[0m\n",
       "\u001b[2;4;94mTraining_and_Deployment\u001b[0m\n"
      ]
     },
     "metadata": {},
     "output_type": "display_data"
    },
    {
     "data": {
      "text/html": [
       "<pre style=\"white-space:pre;overflow-x:auto;line-height:normal;font-family:Menlo,'DejaVu Sans Mono',consolas,'Courier New',monospace\">   <span style=\"color: #7f7f7f; text-decoration-color: #7f7f7f\">Comparative analysis of model compression techniques for </span><span style=\"color: #bfbf7f; text-decoration-color: #bfbf7f\">...</span><span style=\"color: #7f7f7f; text-decoration-color: #7f7f7f\"> : </span>\n",
       "<span style=\"color: #7f7fff; text-decoration-color: #7f7fff; text-decoration: underline\">https://www.nature.com/articles/s41598-025-07821-w</span>\n",
       "</pre>\n"
      ],
      "text/plain": [
       "   \u001b[2mComparative analysis of model compression techniques for \u001b[0m\u001b[2;33m...\u001b[0m\u001b[2m : \u001b[0m\n",
       "\u001b[2;4;94mhttps://www.nature.com/articles/s41598-025-07821-w\u001b[0m\n"
      ]
     },
     "metadata": {},
     "output_type": "display_data"
    },
    {
     "data": {
      "text/html": [
       "<pre style=\"white-space:pre;overflow-x:auto;line-height:normal;font-family:Menlo,'DejaVu Sans Mono',consolas,'Courier New',monospace\"><span style=\"color: #808000; text-decoration-color: #808000; font-weight: bold\">📝</span> <span style=\"color: #808000; text-decoration-color: #808000\">Summary updated</span>\n",
       "</pre>\n"
      ],
      "text/plain": [
       "\u001b[1;33m📝\u001b[0m \u001b[33mSummary updated\u001b[0m\n"
      ]
     },
     "metadata": {},
     "output_type": "display_data"
    },
    {
     "data": {
      "text/html": [
       "<pre style=\"white-space:pre;overflow-x:auto;line-height:normal;font-family:Menlo,'DejaVu Sans Mono',consolas,'Courier New',monospace\">   <span style=\"color: #7f7f7f; text-decoration-color: #7f7f7f\">  The environmental impact of training large AI models versus </span><span style=\"color: #7fbfbf; text-decoration-color: #7fbfbf; font-weight: bold\">10</span><span style=\"color: #7f7f7f; text-decoration-color: #7f7f7f\">,</span><span style=\"color: #7fbfbf; text-decoration-color: #7fbfbf; font-weight: bold\">000</span><span style=\"color: #7f7f7f; text-decoration-color: #7f7f7f\"> tiny models reveals stark diffe</span><span style=\"color: #bfbf7f; text-decoration-color: #bfbf7f\">...</span>\n",
       "</pre>\n"
      ],
      "text/plain": [
       "   \u001b[2m  The environmental impact of training large AI models versus \u001b[0m\u001b[1;2;36m10\u001b[0m\u001b[2m,\u001b[0m\u001b[1;2;36m000\u001b[0m\u001b[2m tiny models reveals stark diffe\u001b[0m\u001b[2;33m...\u001b[0m\n"
      ]
     },
     "metadata": {},
     "output_type": "display_data"
    },
    {
     "data": {
      "text/html": [
       "<pre style=\"white-space:pre;overflow-x:auto;line-height:normal;font-family:Menlo,'DejaVu Sans Mono',consolas,'Courier New',monospace\">\n",
       "<span style=\"color: #800080; text-decoration-color: #800080; font-weight: bold\">🔍 Follow-up Query #</span><span style=\"color: #800080; text-decoration-color: #800080; font-weight: bold\">3</span>\n",
       "</pre>\n"
      ],
      "text/plain": [
       "\n",
       "\u001b[1;35m🔍 Follow-up Query #\u001b[0m\u001b[1;35m3\u001b[0m\n"
      ]
     },
     "metadata": {},
     "output_type": "display_data"
    },
    {
     "data": {
      "text/html": [
       "<pre style=\"white-space:pre;overflow-x:auto;line-height:normal;font-family:Menlo,'DejaVu Sans Mono',consolas,'Courier New',monospace\"><span style=\"color: #800080; text-decoration-color: #800080\">   Additional research on Investigate the environmental impact of training one large model vs. </span><span style=\"color: #800080; text-decoration-color: #800080; font-weight: bold\">10</span><span style=\"color: #800080; text-decoration-color: #800080\">,</span><span style=\"color: #800080; text-decoration-color: #800080; font-weight: bold\">000</span><span style=\"color: #800080; text-decoration-color: #800080\"> tiny ones.</span>\n",
       "</pre>\n"
      ],
      "text/plain": [
       "\u001b[35m   Additional research on Investigate the environmental impact of training one large model vs. \u001b[0m\u001b[1;35m10\u001b[0m\u001b[35m,\u001b[0m\u001b[1;35m000\u001b[0m\u001b[35m tiny ones.\u001b[0m\n"
      ]
     },
     "metadata": {},
     "output_type": "display_data"
    },
    {
     "data": {
      "text/html": [
       "<pre style=\"white-space:pre;overflow-x:auto;line-height:normal;font-family:Menlo,'DejaVu Sans Mono',consolas,'Courier New',monospace\"><span style=\"color: #008000; text-decoration-color: #008000; font-weight: bold\">✓</span> <span style=\"color: #008000; text-decoration-color: #008000\">Found </span><span style=\"color: #008000; text-decoration-color: #008000; font-weight: bold\">3</span><span style=\"color: #008000; text-decoration-color: #008000\"> sources</span>\n",
       "</pre>\n"
      ],
      "text/plain": [
       "\u001b[1;32m✓\u001b[0m \u001b[32mFound \u001b[0m\u001b[1;32m3\u001b[0m\u001b[32m sources\u001b[0m\n"
      ]
     },
     "metadata": {},
     "output_type": "display_data"
    },
    {
     "data": {
      "text/html": [
       "<pre style=\"white-space:pre;overflow-x:auto;line-height:normal;font-family:Menlo,'DejaVu Sans Mono',consolas,'Courier New',monospace\">   <span style=\"color: #7f7f7f; text-decoration-color: #7f7f7f\">GPT-</span><span style=\"color: #7fbfbf; text-decoration-color: #7fbfbf; font-weight: bold\">3</span><span style=\"color: #7f7f7f; text-decoration-color: #7f7f7f\"> - Wikipedia : </span><span style=\"color: #7f7fff; text-decoration-color: #7f7fff; text-decoration: underline\">https://en.wikipedia.org/wiki/GPT-3</span>\n",
       "</pre>\n"
      ],
      "text/plain": [
       "   \u001b[2mGPT-\u001b[0m\u001b[1;2;36m3\u001b[0m\u001b[2m - Wikipedia : \u001b[0m\u001b[2;4;94mhttps://en.wikipedia.org/wiki/GPT-3\u001b[0m\n"
      ]
     },
     "metadata": {},
     "output_type": "display_data"
    },
    {
     "data": {
      "text/html": [
       "<pre style=\"white-space:pre;overflow-x:auto;line-height:normal;font-family:Menlo,'DejaVu Sans Mono',consolas,'Courier New',monospace\">   <span style=\"color: #7f7f7f; text-decoration-color: #7f7f7f\">Anthropic research on data-poisoning attacks in large language models : </span>\n",
       "<span style=\"color: #7f7fff; text-decoration-color: #7f7fff; text-decoration: underline\">https://www.anthropic.com/research/small-samples-poison</span>\n",
       "</pre>\n"
      ],
      "text/plain": [
       "   \u001b[2mAnthropic research on data-poisoning attacks in large language models : \u001b[0m\n",
       "\u001b[2;4;94mhttps://www.anthropic.com/research/small-samples-poison\u001b[0m\n"
      ]
     },
     "metadata": {},
     "output_type": "display_data"
    },
    {
     "data": {
      "text/html": [
       "<pre style=\"white-space:pre;overflow-x:auto;line-height:normal;font-family:Menlo,'DejaVu Sans Mono',consolas,'Courier New',monospace\">   <span style=\"color: #7f7f7f; text-decoration-color: #7f7f7f\">What Is Environmental Engineering? It's Important Role in Health : </span>\n",
       "<span style=\"color: #7f7fff; text-decoration-color: #7f7fff; text-decoration: underline\">https://www.g2.com/articles/environmental-engineering</span>\n",
       "</pre>\n"
      ],
      "text/plain": [
       "   \u001b[2mWhat Is Environmental Engineering? It's Important Role in Health : \u001b[0m\n",
       "\u001b[2;4;94mhttps://www.g2.com/articles/environmental-engineering\u001b[0m\n"
      ]
     },
     "metadata": {},
     "output_type": "display_data"
    },
    {
     "data": {
      "text/html": [
       "<pre style=\"white-space:pre;overflow-x:auto;line-height:normal;font-family:Menlo,'DejaVu Sans Mono',consolas,'Courier New',monospace\"><span style=\"color: #808000; text-decoration-color: #808000; font-weight: bold\">📝</span> <span style=\"color: #808000; text-decoration-color: #808000\">Summary updated</span>\n",
       "</pre>\n"
      ],
      "text/plain": [
       "\u001b[1;33m📝\u001b[0m \u001b[33mSummary updated\u001b[0m\n"
      ]
     },
     "metadata": {},
     "output_type": "display_data"
    },
    {
     "data": {
      "text/html": [
       "<pre style=\"white-space:pre;overflow-x:auto;line-height:normal;font-family:Menlo,'DejaVu Sans Mono',consolas,'Courier New',monospace\">   <span style=\"color: #7f7f7f; text-decoration-color: #7f7f7f\">  Training large AI models like GPT-</span><span style=\"color: #7fbfbf; text-decoration-color: #7fbfbf; font-weight: bold\">4</span><span style=\"color: #7f7f7f; text-decoration-color: #7f7f7f\"> consumes significantly more energy than </span><span style=\"color: #7fbfbf; text-decoration-color: #7fbfbf; font-weight: bold\">10</span><span style=\"color: #7f7f7f; text-decoration-color: #7f7f7f\">,</span><span style=\"color: #7fbfbf; text-decoration-color: #7fbfbf; font-weight: bold\">000</span><span style=\"color: #7f7f7f; text-decoration-color: #7f7f7f\"> tiny models, em</span><span style=\"color: #bfbf7f; text-decoration-color: #bfbf7f\">...</span>\n",
       "</pre>\n"
      ],
      "text/plain": [
       "   \u001b[2m  Training large AI models like GPT-\u001b[0m\u001b[1;2;36m4\u001b[0m\u001b[2m consumes significantly more energy than \u001b[0m\u001b[1;2;36m10\u001b[0m\u001b[2m,\u001b[0m\u001b[1;2;36m000\u001b[0m\u001b[2m tiny models, em\u001b[0m\u001b[2;33m...\u001b[0m\n"
      ]
     },
     "metadata": {},
     "output_type": "display_data"
    },
    {
     "data": {
      "text/html": [
       "<pre style=\"white-space:pre;overflow-x:auto;line-height:normal;font-family:Menlo,'DejaVu Sans Mono',consolas,'Courier New',monospace\">\n",
       "<span style=\"color: #800080; text-decoration-color: #800080; font-weight: bold\">🔍 Follow-up Query #</span><span style=\"color: #800080; text-decoration-color: #800080; font-weight: bold\">4</span>\n",
       "</pre>\n"
      ],
      "text/plain": [
       "\n",
       "\u001b[1;35m🔍 Follow-up Query #\u001b[0m\u001b[1;35m4\u001b[0m\n"
      ]
     },
     "metadata": {},
     "output_type": "display_data"
    },
    {
     "data": {
      "text/html": [
       "<pre style=\"white-space:pre;overflow-x:auto;line-height:normal;font-family:Menlo,'DejaVu Sans Mono',consolas,'Courier New',monospace\"><span style=\"color: #800080; text-decoration-color: #800080\">   Implementations of energy-efficient training techniques for tiny AI models and their real-world carbon footprint</span>\n",
       "<span style=\"color: #800080; text-decoration-color: #800080\">comparisons.</span>\n",
       "</pre>\n"
      ],
      "text/plain": [
       "\u001b[35m   Implementations of energy-efficient training techniques for tiny AI models and their real-world carbon footprint\u001b[0m\n",
       "\u001b[35mcomparisons.\u001b[0m\n"
      ]
     },
     "metadata": {},
     "output_type": "display_data"
    },
    {
     "data": {
      "text/html": [
       "<pre style=\"white-space:pre;overflow-x:auto;line-height:normal;font-family:Menlo,'DejaVu Sans Mono',consolas,'Courier New',monospace\">\n",
       "\n",
       "</pre>\n"
      ],
      "text/plain": [
       "\n",
       "\n"
      ]
     },
     "metadata": {},
     "output_type": "display_data"
    },
    {
     "data": {
      "text/html": [
       "<pre style=\"white-space:pre;overflow-x:auto;line-height:normal;font-family:Menlo,'DejaVu Sans Mono',consolas,'Courier New',monospace\"><span style=\"color: #00ff00; text-decoration-color: #00ff00\">──────────────────────────────────────────────── </span><span style=\"color: #008000; text-decoration-color: #008000; font-weight: bold\">Research Complete</span><span style=\"color: #00ff00; text-decoration-color: #00ff00\"> ────────────────────────────────────────────────</span>\n",
       "</pre>\n"
      ],
      "text/plain": [
       "\u001b[92m──────────────────────────────────────────────── \u001b[0m\u001b[1;32mResearch Complete\u001b[0m\u001b[92m ────────────────────────────────────────────────\u001b[0m\n"
      ]
     },
     "metadata": {},
     "output_type": "display_data"
    },
    {
     "data": {
      "text/html": [
       "<pre style=\"white-space:pre;overflow-x:auto;line-height:normal;font-family:Menlo,'DejaVu Sans Mono',consolas,'Courier New',monospace\">\n",
       "\n",
       "</pre>\n"
      ],
      "text/plain": [
       "\n",
       "\n"
      ]
     },
     "metadata": {},
     "output_type": "display_data"
    },
    {
     "data": {
      "text/html": [
       "<pre style=\"white-space:pre;overflow-x:auto;line-height:normal;font-family:Menlo,'DejaVu Sans Mono',consolas,'Courier New',monospace\">\n",
       "                                                      <span style=\"font-weight: bold; text-decoration: underline\">Summary</span>                                                      \n",
       "\n",
       "Training large AI models like GPT-4 consumes significantly more energy than 10,000 tiny models, emitting 626,000   \n",
       "pounds of CO₂ equivalent for 300 round-trip flights between New York and San Francisco. While exact comparisons are\n",
       "unclear, data suggests large models have higher carbon footprints due to their computational demands. Smaller      \n",
       "models, such as Grok 3 Nano, demonstrate extreme energy efficiency, using 0.75% of battery power for 25            \n",
       "conversations. The ECO-AI paper highlights that techniques like mixed-precision training and optimizer choices can \n",
       "reduce carbon footprints by over 30% with minimal performance loss, while model compression methods (e.g., pruning,\n",
       "quantization) can cut energy use by 32.097% for BERT and 23.934% for ELECTRA. However, data-poisoning attacks, such\n",
       "as injecting 250 malicious documents into training data, reveal that large models require near-constant poisoned   \n",
       "content regardless of size, challenging assumptions about data scale. These findings underscore the need for       \n",
       "sustainable practices, renewable integration, and policy measures to balance AI performance with environmental     \n",
       "impact.                                                                                                            \n",
       "\n",
       "                                                     <span style=\"font-weight: bold\">Sources:</span>                                                      \n",
       "\n",
       "<span style=\"color: #808000; text-decoration-color: #808000; font-weight: bold\"> • </span>Wikipedia Environmental impact of artificial intelligence - Wikipedia :                                         \n",
       "<span style=\"color: #808000; text-decoration-color: #808000; font-weight: bold\">   </span>https://en.wikipedia.org/wiki/Environmental_impact_of_artificial_intelligence                                   \n",
       "<span style=\"color: #808000; text-decoration-color: #808000; font-weight: bold\"> • </span>MIT News Explained: Generative AI’s environmental impact | MIT News | Massachusetts Institute of Technology :   \n",
       "<span style=\"color: #808000; text-decoration-color: #808000; font-weight: bold\">   </span>https://news.mit.edu/2025/explained-generative-ai-environmental-impact-0117                                     \n",
       "<span style=\"color: #808000; text-decoration-color: #808000; font-weight: bold\"> • </span>The Sustainable Agency Environmental Impact of Generative AI | Stats &amp; Facts for 2025 :                         \n",
       "<span style=\"color: #808000; text-decoration-color: #808000; font-weight: bold\">   </span>https://thesustainableagency.com/blog/environmental-impact-of-generative-ai/                                    \n",
       "<span style=\"color: #808000; text-decoration-color: #808000; font-weight: bold\"> • </span>Large language model - Wikipedia : https://en.wikipedia.org/wiki/Large_language_model                           \n",
       "<span style=\"color: #808000; text-decoration-color: #808000; font-weight: bold\"> • </span>Tiny AI Model Shocks Industry by Outperforming Giants in ARC-AGI... :                                           \n",
       "<span style=\"color: #808000; text-decoration-color: #808000; font-weight: bold\">   </span>https://www.theailibrary.co/blog/tiny-ai-model-shocks-industry-by-outperforming-giants-in-arc-agi-benchmark     \n",
       "<span style=\"color: #808000; text-decoration-color: #808000; font-weight: bold\"> • </span>Introducing Gemma 3 270M: The compact model for hyper- efficient AI :                                           \n",
       "<span style=\"color: #808000; text-decoration-color: #808000; font-weight: bold\">   </span>https://developers.googleblog.com/en/introducing-gemma-3-270m/                                                  \n",
       "<span style=\"color: #808000; text-decoration-color: #808000; font-weight: bold\"> • </span>ECO-AI – Energy-Conscious Optimization for AI Training :                                                        \n",
       "<span style=\"color: #808000; text-decoration-color: #808000; font-weight: bold\">   </span>https://openaccess.thecvf.com/content/CVPR2025W/ReGenAI/papers/Horvath_ECO-AI_-_Energy-Conscious_Optimization_fo\n",
       "<span style=\"color: #808000; text-decoration-color: #808000; font-weight: bold\">   </span>r_AI_Training_CVPRW_2025_paper.pdf                                                                              \n",
       "<span style=\"color: #808000; text-decoration-color: #808000; font-weight: bold\"> • </span>Sustainable AI: Measuring and Reducing Carbon Footprint in ... :                                                \n",
       "<span style=\"color: #808000; text-decoration-color: #808000; font-weight: bold\">   </span>https://www.researchgate.net/publication/392727729_Sustainable_AI_Measuring_and_Reducing_Carbon_Footprint_in_Mod\n",
       "<span style=\"color: #808000; text-decoration-color: #808000; font-weight: bold\">   </span>el_Training_and_Deployment                                                                                      \n",
       "<span style=\"color: #808000; text-decoration-color: #808000; font-weight: bold\"> • </span>Comparative analysis of model compression techniques for ... :                                                  \n",
       "<span style=\"color: #808000; text-decoration-color: #808000; font-weight: bold\">   </span>https://www.nature.com/articles/s41598-025-07821-w                                                              \n",
       "<span style=\"color: #808000; text-decoration-color: #808000; font-weight: bold\"> • </span>GPT-3 - Wikipedia : https://en.wikipedia.org/wiki/GPT-3                                                         \n",
       "<span style=\"color: #808000; text-decoration-color: #808000; font-weight: bold\"> • </span>Anthropic research on data-poisoning attacks in large language models :                                         \n",
       "<span style=\"color: #808000; text-decoration-color: #808000; font-weight: bold\">   </span>https://www.anthropic.com/research/small-samples-poison                                                         \n",
       "<span style=\"color: #808000; text-decoration-color: #808000; font-weight: bold\"> • </span>What Is Environmental Engineering? It's Important Role in Health :                                              \n",
       "<span style=\"color: #808000; text-decoration-color: #808000; font-weight: bold\">   </span>https://www.g2.com/articles/environmental-engineering                                                           \n",
       "</pre>\n"
      ],
      "text/plain": [
       "\n",
       "                                                      \u001b[1;4mSummary\u001b[0m                                                      \n",
       "\n",
       "Training large AI models like GPT-4 consumes significantly more energy than 10,000 tiny models, emitting 626,000   \n",
       "pounds of CO₂ equivalent for 300 round-trip flights between New York and San Francisco. While exact comparisons are\n",
       "unclear, data suggests large models have higher carbon footprints due to their computational demands. Smaller      \n",
       "models, such as Grok 3 Nano, demonstrate extreme energy efficiency, using 0.75% of battery power for 25            \n",
       "conversations. The ECO-AI paper highlights that techniques like mixed-precision training and optimizer choices can \n",
       "reduce carbon footprints by over 30% with minimal performance loss, while model compression methods (e.g., pruning,\n",
       "quantization) can cut energy use by 32.097% for BERT and 23.934% for ELECTRA. However, data-poisoning attacks, such\n",
       "as injecting 250 malicious documents into training data, reveal that large models require near-constant poisoned   \n",
       "content regardless of size, challenging assumptions about data scale. These findings underscore the need for       \n",
       "sustainable practices, renewable integration, and policy measures to balance AI performance with environmental     \n",
       "impact.                                                                                                            \n",
       "\n",
       "                                                     \u001b[1mSources:\u001b[0m                                                      \n",
       "\n",
       "\u001b[1;33m • \u001b[0mWikipedia Environmental impact of artificial intelligence - Wikipedia :                                         \n",
       "\u001b[1;33m   \u001b[0mhttps://en.wikipedia.org/wiki/Environmental_impact_of_artificial_intelligence                                   \n",
       "\u001b[1;33m • \u001b[0mMIT News Explained: Generative AI’s environmental impact | MIT News | Massachusetts Institute of Technology :   \n",
       "\u001b[1;33m   \u001b[0mhttps://news.mit.edu/2025/explained-generative-ai-environmental-impact-0117                                     \n",
       "\u001b[1;33m • \u001b[0mThe Sustainable Agency Environmental Impact of Generative AI | Stats & Facts for 2025 :                         \n",
       "\u001b[1;33m   \u001b[0mhttps://thesustainableagency.com/blog/environmental-impact-of-generative-ai/                                    \n",
       "\u001b[1;33m • \u001b[0mLarge language model - Wikipedia : https://en.wikipedia.org/wiki/Large_language_model                           \n",
       "\u001b[1;33m • \u001b[0mTiny AI Model Shocks Industry by Outperforming Giants in ARC-AGI... :                                           \n",
       "\u001b[1;33m   \u001b[0mhttps://www.theailibrary.co/blog/tiny-ai-model-shocks-industry-by-outperforming-giants-in-arc-agi-benchmark     \n",
       "\u001b[1;33m • \u001b[0mIntroducing Gemma 3 270M: The compact model for hyper- efficient AI :                                           \n",
       "\u001b[1;33m   \u001b[0mhttps://developers.googleblog.com/en/introducing-gemma-3-270m/                                                  \n",
       "\u001b[1;33m • \u001b[0mECO-AI – Energy-Conscious Optimization for AI Training :                                                        \n",
       "\u001b[1;33m   \u001b[0mhttps://openaccess.thecvf.com/content/CVPR2025W/ReGenAI/papers/Horvath_ECO-AI_-_Energy-Conscious_Optimization_fo\n",
       "\u001b[1;33m   \u001b[0mr_AI_Training_CVPRW_2025_paper.pdf                                                                              \n",
       "\u001b[1;33m • \u001b[0mSustainable AI: Measuring and Reducing Carbon Footprint in ... :                                                \n",
       "\u001b[1;33m   \u001b[0mhttps://www.researchgate.net/publication/392727729_Sustainable_AI_Measuring_and_Reducing_Carbon_Footprint_in_Mod\n",
       "\u001b[1;33m   \u001b[0mel_Training_and_Deployment                                                                                      \n",
       "\u001b[1;33m • \u001b[0mComparative analysis of model compression techniques for ... :                                                  \n",
       "\u001b[1;33m   \u001b[0mhttps://www.nature.com/articles/s41598-025-07821-w                                                              \n",
       "\u001b[1;33m • \u001b[0mGPT-3 - Wikipedia : https://en.wikipedia.org/wiki/GPT-3                                                         \n",
       "\u001b[1;33m • \u001b[0mAnthropic research on data-poisoning attacks in large language models :                                         \n",
       "\u001b[1;33m   \u001b[0mhttps://www.anthropic.com/research/small-samples-poison                                                         \n",
       "\u001b[1;33m • \u001b[0mWhat Is Environmental Engineering? It's Important Role in Health :                                              \n",
       "\u001b[1;33m   \u001b[0mhttps://www.g2.com/articles/environmental-engineering                                                           \n"
      ]
     },
     "metadata": {},
     "output_type": "display_data"
    }
   ],
   "source": [
    "client = ResearchClient()\n",
    "loop_count = {'value': 0}\n",
    "\n",
    "for progress in client.research(topic):\n",
    "    display_progress(progress, loop_count)"
   ]
  },
  {
   "cell_type": "code",
   "execution_count": null,
   "metadata": {},
   "outputs": [],
   "source": []
  }
 ],
 "metadata": {
  "kernelspec": {
   "display_name": "py312",
   "language": "python",
   "name": "python3"
  },
  "language_info": {
   "codemirror_mode": {
    "name": "ipython",
    "version": 3
   },
   "file_extension": ".py",
   "mimetype": "text/x-python",
   "name": "python",
   "nbconvert_exporter": "python",
   "pygments_lexer": "ipython3",
   "version": "3.12.0"
  }
 },
 "nbformat": 4,
 "nbformat_minor": 4
}
